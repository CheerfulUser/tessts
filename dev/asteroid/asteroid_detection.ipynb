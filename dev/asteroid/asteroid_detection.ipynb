{
 "cells": [
  {
   "cell_type": "code",
   "execution_count": 1,
   "id": "9076facf",
   "metadata": {},
   "outputs": [],
   "source": [
    "import tessreduce as tr\n",
    "import matplotlib.pyplot as plt\n",
    "import numpy as np\n",
    "\n",
    "%matplotlib widget\n",
    "\n",
    "from find_asteroid import MPCquery"
   ]
  },
  {
   "cell_type": "code",
   "execution_count": null,
   "id": "94bd1578",
   "metadata": {},
   "outputs": [],
   "source": [
    "ra = 348.79405058163144\n",
    "dec = -45.32389674857491\n",
    "tess = tr.tessreduce(ra=ra,dec=dec,sector=1,plot=False,reduce=True,calibrate=False)"
   ]
  },
  {
   "cell_type": "code",
   "execution_count": null,
   "id": "2bf955ab",
   "metadata": {},
   "outputs": [],
   "source": [
    "rad = 21*45 #some size in arcsec, currently the cutout radius\n",
    "## If you want to query specific x,y positions in the image\n",
    "#ra, dec = tess.wcs.all_pix2world(x,y,0)\n",
    "jds = tess.lc[0,:] + 2400000.5\n",
    "#Probably need to iterate through each jd (epoch)\n",
    "results = MPCquery(ra,dec,jd,rad,obscode='C57',limit=str(20))"
   ]
  }
 ],
 "metadata": {
  "kernelspec": {
   "display_name": "Python 3 (ipykernel)",
   "language": "python",
   "name": "python3"
  },
  "language_info": {
   "codemirror_mode": {
    "name": "ipython",
    "version": 3
   },
   "file_extension": ".py",
   "mimetype": "text/x-python",
   "name": "python",
   "nbconvert_exporter": "python",
   "pygments_lexer": "ipython3",
   "version": "3.9.15"
  }
 },
 "nbformat": 4,
 "nbformat_minor": 5
}
